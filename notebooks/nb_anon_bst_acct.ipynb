{
 "cells": [
  {
   "cell_type": "code",
   "execution_count": 0,
   "metadata": {
    "application/vnd.databricks.v1+cell": {
     "cellMetadata": {},
     "inputWidgets": {},
     "nuid": "aa0a4f09-534d-48d3-a38e-dc423731df73",
     "showTitle": false,
     "tableResultSettingsMap": {},
     "title": ""
    }
   },
   "outputs": [],
   "source": [
    "base = \"/Volumes/advisory_demo_catalog/ai_bi_reporting/anon_files\"\n",
    "df_acct = spark.read.option(\"header\",\"true\").csv(f\"{base}/ANON BST ACCT*.csv\")\n",
    "df_opp = spark.read.option(\"header\",\"true\").csv(f\"{base}/ANON BST OPPS*.csv\")\n",
    "df_cust = spark.read.option(\"header\",\"true\").csv(f\"{base}/ANON  Cust_*.csv\")\n",
    "\n",
    "df_acct.write.mode(\"overwrite\").saveAsTable(\"advisory_demo_catalog.ai_bi_reporting.anon_bst_acct_bz\")\n",
    "df_opp.write.mode(\"overwrite\").saveAsTable(\"advisory_demo_catalog.ai_bi_reporting.anon_bst_opp_bz\")\n",
    "df_cust.write.mode(\"overwrite\").saveAsTable(\"advisory_demo_catalog.ai_bi_reporting.anon_cust_intelligence_opportunity_bz\")"
   ]
  }
 ],
 "metadata": {
  "application/vnd.databricks.v1+notebook": {
   "computePreferences": null,
   "dashboards": [],
   "environmentMetadata": {
    "base_environment": "",
    "environment_version": "3"
   },
   "inputWidgetPreferences": null,
   "language": "python",
   "notebookMetadata": {
    "pythonIndentUnit": 4
   },
   "notebookName": "nb_anon_bst_acct",
   "widgets": {}
  },
  "language_info": {
   "name": "python"
  }
 },
 "nbformat": 4,
 "nbformat_minor": 0
}
