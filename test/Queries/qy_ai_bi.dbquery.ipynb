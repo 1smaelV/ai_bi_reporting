{
 "cells": [
  {
   "cell_type": "code",
   "execution_count": 0,
   "metadata": {
    "application/vnd.databricks.v1+cell": {
     "cellMetadata": {
      "byteLimit": 10485760,
      "rowLimit": 1000
     },
     "inputWidgets": {},
     "nuid": "a87d16bd-9098-4283-83ff-d16ab36d324f",
     "showTitle": false,
     "tableResultSettingsMap": {},
     "title": ""
    }
   },
   "outputs": [],
   "source": [
    "-- Top orgs by ACV last 12 months\n",
    "SELECT close_month, Reporting_Org, sum_acv_usd\n",
    "FROM workspace.ai_bi_reporting.agg_opportunity_monthly_gld\n",
    "WHERE close_month >= date_format(add_months(current_date(), -12),'yyyy-MM')\n",
    "ORDER BY close_month, sum_acv_usd DESC;\n",
    "\n",
    "-- Win rate trend\n",
    "SELECT close_month, ROUND(100*win_rate,2) AS win_rate_pct\n",
    "FROM workspace.ai_bi_reporting.agg_opportunity_monthly_gld\n",
    "ORDER BY close_month;\n",
    "\n",
    "-- Accounts with highest targets vs realized ACV\n",
    "SELECT a.Name, a.FY_Revenue_Target, f.sum_acv_usd\n",
    "FROM workspace.ai_bi_reporting.dim_account_gld a\n",
    "LEFT JOIN (\n",
    "  SELECT AccountID, SUM(amount_acv_usd) AS sum_acv_usd\n",
    "  FROM workspace.ai_bi_reporting.fact_opportunity_gld\n",
    "  GROUP BY AccountID\n",
    ") f ON a.Id = f.AccountID\n",
    "ORDER BY COALESCE(sum_acv_usd,0) DESC NULLS LAST;\n"
   ]
  }
 ],
 "metadata": {
  "application/vnd.databricks.v1+notebook": {
   "computePreferences": null,
   "dashboards": [],
   "environmentMetadata": null,
   "inputWidgetPreferences": null,
   "language": "sql",
   "notebookMetadata": {
    "pythonIndentUnit": 4,
    "sqlQueryOptions": {
     "applyAutoLimit": true,
     "catalog": "workspace",
     "schema": "default"
    }
   },
   "notebookName": "qy_ai_bi.dbquery.ipynb",
   "widgets": {}
  },
  "language_info": {
   "name": "sql"
  }
 },
 "nbformat": 4,
 "nbformat_minor": 0
}
