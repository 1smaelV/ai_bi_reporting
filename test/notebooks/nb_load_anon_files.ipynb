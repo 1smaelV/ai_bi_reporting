{
 "cells": [
  {
   "cell_type": "code",
   "execution_count": 0,
   "metadata": {
    "application/vnd.databricks.v1+cell": {
     "cellMetadata": {
      "byteLimit": 2048000,
      "rowLimit": 10000
     },
     "inputWidgets": {},
     "nuid": "e6e44270-0d88-4e7f-9852-7ac74caefa2d",
     "showTitle": false,
     "tableResultSettingsMap": {},
     "title": ""
    }
   },
   "outputs": [],
   "source": [
    "base = \"/Volumes/workspace/ai_bi_reporting/anon_files\"\n",
    "df_acct = spark.read.option(\"header\",\"true\").csv(f\"{base}/ANON BST ACCT*.csv\")\n",
    "df_opp = spark.read.option(\"header\",\"true\").csv(f\"{base}/ANON BST OPPS*.csv\")\n",
    "df_cust = spark.read.option(\"header\",\"true\").csv(f\"{base}/ANON  Cust_*.csv\")\n",
    "\n",
    "\n",
    "CATALOG = \"workspace\"\n",
    "SCHEMA  = \"ai_bi_reporting\"\n",
    "\n",
    "tbl_acct = f\"{CATALOG}.{SCHEMA}.anon_bst_acct_bz\"\n",
    "tbl_opp  = f\"{CATALOG}.{SCHEMA}.anon_bst_opp_bz\"\n",
    "tbl_cust = f\"{CATALOG}.{SCHEMA}.anon_cust_intelligence_opportunity_bz\"\n",
    "\n",
    "write_opts = {\n",
    "    \"delta.columnMapping.mode\": \"name\",   # allows spaces/special characters in column names\n",
    "    \"overwriteSchema\": \"true\"\n",
    "}\n",
    "\n",
    "(df_acct.write\n",
    "    .options(**write_opts)\n",
    "    .mode(\"overwrite\")\n",
    "    .saveAsTable(tbl_acct)\n",
    ")\n",
    "\n",
    "(df_opp.write\n",
    "    .options(**write_opts)\n",
    "    .mode(\"overwrite\")\n",
    "    .saveAsTable(tbl_opp)\n",
    ")\n",
    "\n",
    "(df_cust.write\n",
    "    .options(**write_opts)\n",
    "    .mode(\"overwrite\")\n",
    "    .saveAsTable(tbl_cust)\n",
    ")"
   ]
  }
 ],
 "metadata": {
  "application/vnd.databricks.v1+notebook": {
   "computePreferences": null,
   "dashboards": [],
   "environmentMetadata": {
    "base_environment": "",
    "environment_version": "3"
   },
   "inputWidgetPreferences": null,
   "language": "python",
   "notebookMetadata": {
    "pythonIndentUnit": 4
   },
   "notebookName": "nb_load_anon_files",
   "widgets": {}
  },
  "language_info": {
   "name": "python"
  }
 },
 "nbformat": 4,
 "nbformat_minor": 0
}
